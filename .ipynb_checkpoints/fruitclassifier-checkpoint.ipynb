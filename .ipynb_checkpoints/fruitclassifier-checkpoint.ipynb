{
 "cells": [
  {
   "cell_type": "code",
   "execution_count": 17,
   "metadata": {},
   "outputs": [],
   "source": [
    "#All The Imports needed to run the Application\n",
    "import keras\n",
    "from keras.preprocessing.image import ImageDataGenerator\n",
    "from keras.models import Sequential\n",
    "from keras.layers import Conv2D , Dense, Dropout, Activation, Flatten, MaxPooling2D\n",
    "from keras.optimizers import RMSprop, SGD\n",
    "from keras.callbacks import EarlyStopping, ModelCheckpoint, ReduceLROnPlateau\n",
    "import os"
   ]
  },
  {
   "cell_type": "code",
   "execution_count": 18,
   "metadata": {},
   "outputs": [
    {
     "name": "stdout",
     "output_type": "stream",
     "text": [
      "Found 67692 images belonging to 131 classes.\n",
      "Found 22688 images belonging to 131 classes.\n"
     ]
    }
   ],
   "source": [
    "#Set The parameters\n",
    "num_of_classes = 81\n",
    "img_rows, img_cols = 31, 31\n",
    "batch_size = 16\n",
    "\n",
    "train_data_dir = './fruits-360/train'\n",
    "validation_data_dir = './fruits-360/validation'\n",
    "\n",
    "#Select the TrainDatagenerator to Generate Specifics we need for Image\n",
    "train_data_gen = ImageDataGenerator(rescale=1./255, rotation_range=30, width_shift_range=0.3, height_shift_range=0.3, horizontal_flip=True)\n",
    "validation_data_gen = ImageDataGenerator(rescale=1./255)\n",
    "\n",
    "#Generate The Training And Testing Data\n",
    "training_data = train_data_gen.flow_from_directory(train_data_dir, target_size=(img_rows, img_cols), batch_size=batch_size, class_mode=\"categorical\", shuffle=True)\n",
    "validation_data = validation_data_gen.flow_from_directory(validation_data_dir, target_size=(img_rows, img_cols), batch_size=batch_size, class_mode=\"categorical\", shuffle=True)\n",
    "\n"
   ]
  },
  {
   "cell_type": "code",
   "execution_count": 19,
   "metadata": {},
   "outputs": [
    {
     "name": "stdout",
     "output_type": "stream",
     "text": [
      "Model: \"sequential_3\"\n",
      "_________________________________________________________________\n",
      "Layer (type)                 Output Shape              Param #   \n",
      "=================================================================\n",
      "conv2d_6 (Conv2D)            (None, 31, 31, 32)        896       \n",
      "_________________________________________________________________\n",
      "activation_7 (Activation)    (None, 31, 31, 32)        0         \n",
      "_________________________________________________________________\n",
      "conv2d_7 (Conv2D)            (None, 29, 29, 32)        9248      \n",
      "_________________________________________________________________\n",
      "activation_8 (Activation)    (None, 29, 29, 32)        0         \n",
      "_________________________________________________________________\n",
      "max_pooling2d_1 (MaxPooling2 (None, 14, 14, 32)        0         \n",
      "_________________________________________________________________\n",
      "dropout_2 (Dropout)          (None, 14, 14, 32)        0         \n",
      "_________________________________________________________________\n",
      "flatten_2 (Flatten)          (None, 6272)              0         \n",
      "_________________________________________________________________\n",
      "flatten_3 (Flatten)          (None, 6272)              0         \n",
      "_________________________________________________________________\n",
      "dense_2 (Dense)              (None, 512)               3211776   \n",
      "_________________________________________________________________\n",
      "activation_9 (Activation)    (None, 512)               0         \n",
      "_________________________________________________________________\n",
      "dropout_3 (Dropout)          (None, 512)               0         \n",
      "_________________________________________________________________\n",
      "dense_3 (Dense)              (None, 81)                41553     \n",
      "_________________________________________________________________\n",
      "activation_10 (Activation)   (None, 81)                0         \n",
      "=================================================================\n",
      "Total params: 3,263,473\n",
      "Trainable params: 3,263,473\n",
      "Non-trainable params: 0\n",
      "_________________________________________________________________\n",
      "None\n"
     ]
    }
   ],
   "source": [
    "#Defining The CNN Model for classification\n",
    "\n",
    "model = Sequential()\n",
    "#Defining the Padding as Same --> The Input and Output will be same Basically here.\n",
    "model.add(Conv2D(32, (3,3), padding=\"same\", input_shape=(img_rows, img_cols, 3)))\n",
    "#You can also specify the activation in the Convolution Layer by adding new params as \n",
    "model.add(Activation(\"relu\"))\n",
    "model.add(Conv2D(32, (3,3)))\n",
    "model.add(Activation(\"relu\"))\n",
    "#Max Pooling Layer to get the Max values out of this values\n",
    "model.add(MaxPooling2D(pool_size=(2,2)))\n",
    "model.add(Dropout(0.25))\n",
    "model.add(Flatten())\n",
    "\n",
    "#End of Convolution Layers Now Flattening the output of Convolution layer to give it to Dense Layer\n",
    "model.add(Flatten())\n",
    "model.add(Dense(512))\n",
    "model.add(Activation(\"relu\"))\n",
    "model.add(Dropout(0.5))\n",
    "#Setting the Output as number of classes to get the Output as probablity, Also Softmax gives probablity\n",
    "model.add(Dense(num_of_classes))\n",
    "model.add(Activation(\"softmax\"))\n",
    "          \n",
    "#Printing the Model Summary after we are done\n",
    "print(model.summary())"
   ]
  },
  {
   "cell_type": "code",
   "execution_count": null,
   "metadata": {},
   "outputs": [],
   "source": [
    "#Training The model for Accuracy\n"
   ]
  }
 ],
 "metadata": {
  "kernelspec": {
   "display_name": "Python 3",
   "language": "python",
   "name": "python3"
  },
  "language_info": {
   "codemirror_mode": {
    "name": "ipython",
    "version": 3
   },
   "file_extension": ".py",
   "mimetype": "text/x-python",
   "name": "python",
   "nbconvert_exporter": "python",
   "pygments_lexer": "ipython3",
   "version": "3.8.5"
  }
 },
 "nbformat": 4,
 "nbformat_minor": 4
}
